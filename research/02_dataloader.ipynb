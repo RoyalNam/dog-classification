{
 "cells": [
  {
   "cell_type": "code",
   "execution_count": 1,
   "metadata": {},
   "outputs": [],
   "source": [
    "import os"
   ]
  },
  {
   "cell_type": "code",
   "execution_count": 2,
   "metadata": {},
   "outputs": [],
   "source": [
    "os.chdir('../')"
   ]
  },
  {
   "cell_type": "code",
   "execution_count": 3,
   "metadata": {},
   "outputs": [],
   "source": [
    "from dataclasses import dataclass\n",
    "from pathlib import Path"
   ]
  },
  {
   "cell_type": "code",
   "execution_count": 4,
   "metadata": {},
   "outputs": [],
   "source": [
    "@dataclass(frozen=True)\n",
    "class DataLoaderConfig:\n",
    "    root_dir: Path\n",
    "    train_dir: Path\n",
    "    test_dir: Path\n",
    "    image_transforms_path: Path\n",
    "    weights: str\n",
    "    params_batch_size: int"
   ]
  },
  {
   "cell_type": "code",
   "execution_count": 5,
   "metadata": {},
   "outputs": [],
   "source": [
    "from cnnClassifier.utils.common import read_yaml, create_dir\n",
    "from cnnClassifier.constants import *"
   ]
  },
  {
   "cell_type": "code",
   "execution_count": 6,
   "metadata": {},
   "outputs": [],
   "source": [
    "class ConfigurationManager:\n",
    "    def __init__(self) -> None:\n",
    "        config_path = CONFIG_PATH\n",
    "        params_path = PARAMS_PATH\n",
    "        \n",
    "        self.config = read_yaml(config_path)\n",
    "        self.params = read_yaml(params_path)\n",
    "        \n",
    "        create_dir([self.config['artifacts_root']])\n",
    "    \n",
    "    def get_dataloader_config(self) -> DataLoaderConfig:\n",
    "        config = self.config['dataloader']\n",
    "        create_dir([config['root_dir']])\n",
    "        \n",
    "        dataloader_config = DataLoaderConfig(\n",
    "            root_dir=config['root_dir'],\n",
    "            train_dir=config['train_dir'],\n",
    "            test_dir=config['test_dir'],\n",
    "            image_transforms_path=config['image_transforms_path'],\n",
    "            weights=self.params['WEIGHTS'],\n",
    "            params_batch_size=self.params['BATCH_SIZE']\n",
    "        )\n",
    "        return dataloader_config"
   ]
  },
  {
   "cell_type": "code",
   "execution_count": 7,
   "metadata": {},
   "outputs": [],
   "source": [
    "import torch\n",
    "import torchvision\n",
    "from torchvision.datasets import ImageFolder\n",
    "from torch.utils.data import DataLoader as TorchDataLoader\n",
    "from cnnClassifier.utils.common import save_model"
   ]
  },
  {
   "cell_type": "code",
   "execution_count": 8,
   "metadata": {},
   "outputs": [],
   "source": [
    "class Dataloader:\n",
    "    def __init__(self, config: DataLoaderConfig):\n",
    "        self.config = config\n",
    "        \n",
    "        \n",
    "    def create_dataloader(self):\n",
    "        weights = torchvision.models.get_weight(f\"{self.config.weights}.DEFAULT\")\n",
    "        transforms = weights.transforms()\n",
    "        train_data = ImageFolder(\n",
    "            root=self.config.train_dir,\n",
    "            transform=transforms\n",
    "        )\n",
    "        test_data = ImageFolder(\n",
    "            root=self.config.test_dir,\n",
    "            transform=transforms\n",
    "        )\n",
    "        \n",
    "        classes_name = train_data.classes\n",
    "        \n",
    "        train_dataloader = TorchDataLoader(\n",
    "            dataset=train_data,\n",
    "            batch_size=self.config.params_batch_size,\n",
    "            shuffle=True\n",
    "        )\n",
    "        test_dataloader = TorchDataLoader(\n",
    "            dataset=test_data,\n",
    "            batch_size=self.config.params_batch_size,\n",
    "            shuffle=False\n",
    "        )\n",
    "        # save transforms image\n",
    "        save_model(transforms, self.config.image_transforms_path)\n",
    "        self.save_classes(classes_name)\n",
    "        return train_dataloader, test_dataloader, classes_name\n",
    "    \n",
    "    def save_classes(self, classes_name):\n",
    "        with open('classes.txt', 'w') as file:\n",
    "            for breed in classes_name:\n",
    "                file.write(f\"{breed}\\n\")"
   ]
  },
  {
   "cell_type": "code",
   "execution_count": 9,
   "metadata": {},
   "outputs": [
    {
     "name": "stdout",
     "output_type": "stream",
     "text": [
      "[2024-01-12 22:01:07,771: INFO: common: Yaml file: config\\config.yaml loaded successfully]\n",
      "[2024-01-12 22:01:07,773: INFO: common: Yaml file: params.yaml loaded successfully]\n",
      "[2024-01-12 22:01:07,774: INFO: common: Created directory at: artifacts]\n",
      "[2024-01-12 22:01:07,775: INFO: common: Created directory at: artifacts/dataloader]\n",
      "['Afghan', 'African Wild Dog', 'Airedale', 'American Hairless', 'American Spaniel', 'Basenji', 'Basset', 'Beagle', 'Bearded Collie', 'Bermaise', 'Bichon Frise', 'Blenheim', 'Bloodhound', 'Bluetick', 'Border Collie', 'Borzoi', 'Boston Terrier', 'Boxer', 'Bull Mastiff', 'Bull Terrier', 'Bulldog', 'Cairn', 'Chihuahua', 'Chinese Crested', 'Chow', 'Clumber', 'Cockapoo', 'Cocker', 'Collie', 'Corgi', 'Coyote', 'Dalmation', 'Dhole', 'Dingo', 'Doberman', 'Elk Hound', 'French Bulldog', 'German Sheperd', 'Golden Retriever', 'Great Dane', 'Great Perenees', 'Greyhound', 'Groenendael', 'Irish Spaniel', 'Irish Wolfhound', 'Japanese Spaniel', 'Komondor', 'Labradoodle', 'Labrador', 'Lhasa', 'Malinois', 'Maltese', 'Mex Hairless', 'Newfoundland', 'Pekinese', 'Pit Bull', 'Pomeranian', 'Poodle', 'Pug', 'Rhodesian', 'Rottweiler', 'Saint Bernard', 'Schnauzer', 'Scotch Terrier', 'Shar_Pei', 'Shiba Inu', 'Shih-Tzu', 'Siberian Husky', 'Vizsla', 'Yorkie']\n"
     ]
    }
   ],
   "source": [
    "try:\n",
    "    config = ConfigurationManager()\n",
    "    dataloader_config = config.get_dataloader_config()\n",
    "    dataloader = Dataloader(config=dataloader_config)\n",
    "    train_dataloader, test_dataloader, classes = dataloader.create_dataloader()\n",
    "    print(train_dataloader, test_dataloader, classes)\n",
    "except Exception as e:\n",
    "    raise"
   ]
  }
 ],
 "metadata": {
  "kernelspec": {
   "display_name": "venv",
   "language": "python",
   "name": "python3"
  },
  "language_info": {
   "codemirror_mode": {
    "name": "ipython",
    "version": 3
   },
   "file_extension": ".py",
   "mimetype": "text/x-python",
   "name": "python",
   "nbconvert_exporter": "python",
   "pygments_lexer": "ipython3",
   "version": "3.11.5"
  }
 },
 "nbformat": 4,
 "nbformat_minor": 2
}
