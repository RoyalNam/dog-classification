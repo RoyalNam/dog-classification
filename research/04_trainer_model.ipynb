{
 "cells": [
  {
   "cell_type": "code",
   "execution_count": 1,
   "metadata": {},
   "outputs": [],
   "source": [
    "import os"
   ]
  },
  {
   "cell_type": "code",
   "execution_count": 2,
   "metadata": {},
   "outputs": [
    {
     "data": {
      "text/plain": [
       "'f:\\\\NamHoang\\\\MyProject\\\\DL\\\\dog-classification'"
      ]
     },
     "execution_count": 2,
     "metadata": {},
     "output_type": "execute_result"
    }
   ],
   "source": [
    "os.chdir('../')\n",
    "%pwd"
   ]
  },
  {
   "cell_type": "code",
   "execution_count": 3,
   "metadata": {},
   "outputs": [],
   "source": [
    "os.environ['MLFLOW_TRACKING_URI']='https://dagshub.com/RoyalNam/dog-classification.mlflow'\n",
    "os.environ['MLFLOW_TRACKING_USERNAME']=\"RoyalNam\"\n",
    "os.environ['MLFLOW_TRACKING_PASSWORD']=\"118907a7c7d97e75baf459e59483bc4b508be688\""
   ]
  },
  {
   "cell_type": "code",
   "execution_count": 4,
   "metadata": {},
   "outputs": [],
   "source": [
    "from dataclasses import dataclass\n",
    "from pathlib import Path"
   ]
  },
  {
   "cell_type": "code",
   "execution_count": 5,
   "metadata": {},
   "outputs": [],
   "source": [
    "@dataclass(frozen=True)\n",
    "class TrainerConfig:\n",
    "    root_dir: Path\n",
    "    trained_model_path: Path\n",
    "    updated_model_path: Path\n",
    "    params_epochs: int\n",
    "    params_lr: float\n",
    "    mlflow_uri: str\n",
    "    all_params: dict"
   ]
  },
  {
   "cell_type": "code",
   "execution_count": 6,
   "metadata": {},
   "outputs": [],
   "source": [
    "from cnnClassifier.constants import *\n",
    "from cnnClassifier.utils.common import read_yaml, create_dir"
   ]
  },
  {
   "cell_type": "code",
   "execution_count": 7,
   "metadata": {},
   "outputs": [],
   "source": [
    "class ConfigurationManager:\n",
    "    def __init__(self) -> None:\n",
    "        config_path = CONFIG_PATH\n",
    "        params_path = PARAMS_PATH\n",
    "        \n",
    "        self.config = read_yaml(config_path)\n",
    "        self.params = read_yaml(params_path)\n",
    "        \n",
    "        create_dir([self.config['artifacts_root']])\n",
    "    \n",
    "    def get_trainer_config(self) -> TrainerConfig:\n",
    "        config = self.config['trainer']\n",
    "        params = self.params\n",
    "        create_dir([config['root_dir']])\n",
    "        \n",
    "        trainer_config = TrainerConfig(\n",
    "            root_dir=config['root_dir'],\n",
    "            trained_model_path=config['trained_model_path'],\n",
    "            updated_model_path=config['updated_model_path'],\n",
    "            mlflow_uri=config['mlflow_uri'],\n",
    "            params_epochs=params['EPOCHS'],\n",
    "            params_lr=params['LEARNING_RATE'],\n",
    "            all_params=params\n",
    "        )\n",
    "        return trainer_config"
   ]
  },
  {
   "cell_type": "code",
   "execution_count": 8,
   "metadata": {},
   "outputs": [
    {
     "name": "stderr",
     "output_type": "stream",
     "text": [
      "f:\\NamHoang\\MyProject\\DL\\dog-classification\\venv\\Lib\\site-packages\\tqdm\\auto.py:21: TqdmWarning: IProgress not found. Please update jupyter and ipywidgets. See https://ipywidgets.readthedocs.io/en/stable/user_install.html\n",
      "  from .autonotebook import tqdm as notebook_tqdm\n"
     ]
    }
   ],
   "source": [
    "from cnnClassifier.utils.common import save_model, save_json\n",
    "import torch\n",
    "import torchvision\n",
    "from tqdm.auto import tqdm\n",
    "import mlflow\n",
    "from urllib.parse import urlparse"
   ]
  },
  {
   "cell_type": "code",
   "execution_count": 9,
   "metadata": {},
   "outputs": [],
   "source": [
    "class Trainer:\n",
    "    def __init__(self, config: TrainerConfig, train_dataloader, test_dataloader, device='cpu') -> None:\n",
    "        self.config = config\n",
    "        self.device = device\n",
    "        self.model = torch.load(self.config.updated_model_path, map_location=device)\n",
    "        self.train_dataloader = train_dataloader\n",
    "        self.test_dataloader = test_dataloader\n",
    "        self.criterion = torch.nn.CrossEntropyLoss()\n",
    "        self.optimizer = torch.optim.Adam(self.model.parameters(), lr=self.config.params_lr)\n",
    "\n",
    "    def _train_epoch(self, model: torch.nn.Module, train_dataloader, criterion, optimizer, device):\n",
    "        accs, losses = [], []\n",
    "        model.train()\n",
    "        for _, (X, y) in enumerate(train_dataloader):\n",
    "            X, y = X.to(device), y.to(device)\n",
    "            optimizer.zero_grad()\n",
    "            pred = model(X)\n",
    "            loss = criterion(pred, y)\n",
    "            losses.append(loss.item())\n",
    "            loss.backward()\n",
    "            optimizer.step()\n",
    "            \n",
    "            total_acc = (pred.argmax(1)==y).sum().item()\n",
    "            acc = total_acc / y.size(0)\n",
    "            accs.append(acc)\n",
    "        \n",
    "        train_acc = sum(accs) / len(accs)\n",
    "        train_loss = sum(losses) / len(losses)\n",
    "        return train_acc, train_loss\n",
    "    \n",
    "    def _test_epoch(self, model: torch.nn.Module, test_dataloader, criterion, device):\n",
    "        accs, losses = [], []\n",
    "        model.eval()\n",
    "        with torch.no_grad():\n",
    "            for _, (X, y) in enumerate(test_dataloader):\n",
    "                X, y = X.to(device), y.to(device)\n",
    "                pred = model(X)\n",
    "                loss = criterion(pred, y)\n",
    "                losses.append(loss.item())\n",
    "                \n",
    "                total_acc = (pred.argmax(1) == y).sum().item()\n",
    "                acc = total_acc / y.size(0)\n",
    "                accs.append(acc)\n",
    "        test_acc = sum(accs) / len(accs)\n",
    "        test_loss = sum(losses) / len(losses)\n",
    "        return test_acc, test_loss\n",
    "\n",
    "    def train(self):\n",
    "        train_accs, train_losses = [], []\n",
    "        test_accs, test_losses = [], []\n",
    "        for epoch in tqdm(range(self.config.params_epochs)):\n",
    "            train_acc, train_loss = self._train_epoch(self.model, self.train_dataloader, self.criterion, self.optimizer, self.device)\n",
    "            train_accs.append(train_acc)\n",
    "            train_losses.append(train_loss)\n",
    "            test_acc, test_loss = self._test_epoch(self.model, self.test_dataloader, self.criterion, self.device)\n",
    "            test_accs.append(test_acc)\n",
    "            test_losses.append(test_loss)\n",
    "            print(f\"-> epoch {epoch+1} | train_acc: {train_acc} | train_loss: {train_loss} | test_acc: {test_acc} | test_loss: {test_loss}\")\n",
    "            \n",
    "        self.result = {\n",
    "            \"train_acc\": train_accs,\n",
    "            \"train_loss\": train_losses,\n",
    "            \"test_acc\": test_accs,\n",
    "            \"test_loss\": test_losses,\n",
    "        }\n",
    "        self.scores = {\"loss\": self.result['train_loss'][-1], \"accuracy\": self.result['train_acc'][-1]}\n",
    "\n",
    "        save_model(self.model.state_dict(), self.config.trained_model_path)\n",
    "        save_json(path=Path(\"scores.json\"), data=self.scores)\n",
    "\n",
    "        return self.result\n",
    "\n",
    "    def log_into_mlflow(self):\n",
    "        mlflow.set_registry_uri(self.config.mlflow_uri)\n",
    "        tracking_url_type_store = urlparse(mlflow.get_registry_uri()).scheme\n",
    "        with mlflow.start_run():\n",
    "            mlflow.log_params(self.config.all_params)\n",
    "            mlflow.log_metrics(self.scores)\n",
    "            \n",
    "            if tracking_url_type_store != 'file':\n",
    "                mlflow.pytorch.log_model(self.model, \"model\", registered_model_name=\"shufflenet_v2_x0_5\")\n",
    "            else:\n",
    "                mlflow.pytorch.log_model(self.model, \"model\")"
   ]
  },
  {
   "cell_type": "code",
   "execution_count": 10,
   "metadata": {},
   "outputs": [],
   "source": [
    "from cnnClassifier.pipeline.stage_02_dataloader import DataLoaderPipeline"
   ]
  },
  {
   "cell_type": "code",
   "execution_count": 11,
   "metadata": {},
   "outputs": [
    {
     "name": "stdout",
     "output_type": "stream",
     "text": [
      "[2024-01-14 20:24:09,992: INFO: common: Yaml file: config\\config.yaml loaded successfully]\n",
      "[2024-01-14 20:24:09,995: INFO: common: Yaml file: params.yaml loaded successfully]\n",
      "[2024-01-14 20:24:09,997: INFO: common: Created directory at: artifacts]\n",
      "[2024-01-14 20:24:09,999: INFO: common: Created directory at: artifacts/dataloader]\n",
      "[2024-01-14 20:24:10,071: INFO: common: Yaml file: config\\config.yaml loaded successfully]\n",
      "[2024-01-14 20:24:10,073: INFO: common: Yaml file: params.yaml loaded successfully]\n",
      "[2024-01-14 20:24:10,075: INFO: common: Created directory at: artifacts]\n",
      "[2024-01-14 20:24:10,076: INFO: common: Created directory at: artifacts/trainer]\n"
     ]
    }
   ],
   "source": [
    "try:\n",
    "    dataloader = DataLoaderPipeline()\n",
    "    train_dataloader, test_dataloader, _ = dataloader.main()\n",
    "    device = torch.device('cuda' if torch.cuda.is_available() else 'cpu')\n",
    "    config = ConfigurationManager()\n",
    "    trainer_config = config.get_trainer_config()\n",
    "    trainer = Trainer(config=trainer_config, train_dataloader=train_dataloader, test_dataloader=test_dataloader, device=device)\n",
    "    trainer.train()\n",
    "    trainer.log_into_mlflow()\n",
    "except Exception:\n",
    "    raise"
   ]
  },
  {
   "cell_type": "code",
   "execution_count": null,
   "metadata": {},
   "outputs": [],
   "source": []
  }
 ],
 "metadata": {
  "kernelspec": {
   "display_name": "venv",
   "language": "python",
   "name": "python3"
  },
  "language_info": {
   "codemirror_mode": {
    "name": "ipython",
    "version": 3
   },
   "file_extension": ".py",
   "mimetype": "text/x-python",
   "name": "python",
   "nbconvert_exporter": "python",
   "pygments_lexer": "ipython3",
   "version": "3.11.5"
  }
 },
 "nbformat": 4,
 "nbformat_minor": 2
}
