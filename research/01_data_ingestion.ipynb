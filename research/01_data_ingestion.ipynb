{
 "cells": [
  {
   "cell_type": "code",
   "execution_count": 1,
   "metadata": {},
   "outputs": [],
   "source": [
    "import os"
   ]
  },
  {
   "cell_type": "code",
   "execution_count": 2,
   "metadata": {},
   "outputs": [],
   "source": [
    "os.chdir('../')"
   ]
  },
  {
   "cell_type": "code",
   "execution_count": 3,
   "metadata": {},
   "outputs": [
    {
     "data": {
      "text/plain": [
       "'f:\\\\NamHoang\\\\MyProject\\\\DL\\\\dog-classification'"
      ]
     },
     "execution_count": 3,
     "metadata": {},
     "output_type": "execute_result"
    }
   ],
   "source": [
    "%pwd"
   ]
  },
  {
   "cell_type": "code",
   "execution_count": 4,
   "metadata": {},
   "outputs": [],
   "source": [
    "from pathlib import Path\n",
    "from dataclasses import dataclass"
   ]
  },
  {
   "cell_type": "code",
   "execution_count": 5,
   "metadata": {},
   "outputs": [],
   "source": [
    "@dataclass(frozen=True)\n",
    "class DataIngestionConfig:\n",
    "    root_dir: Path\n",
    "    source_url: str\n",
    "    local_data_file: Path\n",
    "    unzip_dir: Path"
   ]
  },
  {
   "cell_type": "code",
   "execution_count": 6,
   "metadata": {},
   "outputs": [],
   "source": [
    "from cnnClassifier.utils.common import read_yaml, create_dir\n",
    "from cnnClassifier.constants import *"
   ]
  },
  {
   "cell_type": "code",
   "execution_count": 7,
   "metadata": {},
   "outputs": [],
   "source": [
    "class ConfigurationManager:\n",
    "    def __init__(self) -> None:\n",
    "        config_path = CONFIG_PATH\n",
    "        params_path = PARAMS_PATH\n",
    "        \n",
    "        self.config = read_yaml(config_path)\n",
    "        self.params = read_yaml(params_path)\n",
    "        \n",
    "        create_dir([self.config['artifacts_root']])\n",
    "        \n",
    "    def get_data_ingestion_config(self):\n",
    "        config = self.config['data_ingestion']\n",
    "        \n",
    "        create_dir([config['root_dir']])\n",
    "        \n",
    "        data_ingestion_config = DataIngestionConfig(\n",
    "            root_dir=config['root_dir'],\n",
    "            source_url=config['source_url'],\n",
    "            local_data_file=config['local_data_file'],\n",
    "            unzip_dir=config['unzip_dir']\n",
    "        )\n",
    "        return data_ingestion_config"
   ]
  },
  {
   "cell_type": "code",
   "execution_count": 8,
   "metadata": {},
   "outputs": [],
   "source": [
    "import os\n",
    "import zipfile\n",
    "import gdown\n",
    "from cnnClassifier import logger"
   ]
  },
  {
   "cell_type": "code",
   "execution_count": 9,
   "metadata": {},
   "outputs": [],
   "source": [
    "class DataIngestion:\n",
    "    def __init__(self, config: DataIngestionConfig) -> None:\n",
    "        self.config = config\n",
    "    \n",
    "    def download_data(self):\n",
    "        try:\n",
    "            dataset_url = self.config.source_url\n",
    "            zip_download_dir = self.config.local_data_file\n",
    "            \n",
    "            logger.info(f\"Downloading data from {dataset_url} into file {zip_download_dir}\")\n",
    "            \n",
    "            file_id = dataset_url.split('/')[-2]\n",
    "            prefix = 'https://drive.google.com/uc?/export=download&id='\n",
    "\n",
    "            gdown.download(prefix +file_id, zip_download_dir)\n",
    "            logger.info(f\"Download data from {dataset_url} into file {zip_download_dir} successfully\")\n",
    "        except Exception as e:\n",
    "            logger.error(f\"Unexpected error: {e}\")\n",
    "            raise e\n",
    "    \n",
    "    def extract_zip_file(self):\n",
    "        zip_download_dir = self.config.local_data_file\n",
    "        unzip_dir = self.config.unzip_dir\n",
    "        try:\n",
    "            os.makedirs(unzip_dir, exist_ok=True)\n",
    "            with zipfile.ZipFile(zip_download_dir, 'r') as zip_ref:\n",
    "                zip_ref.extractall(unzip_dir)\n",
    "            logger.info(f\"Successfully extracted {zip_download_dir} to {unzip_dir}\")\n",
    "        except Exception as e:\n",
    "            logger.error(f\"Error: {e} during zip file extraction\")\n",
    "            raise e"
   ]
  },
  {
   "cell_type": "code",
   "execution_count": 10,
   "metadata": {},
   "outputs": [
    {
     "name": "stdout",
     "output_type": "stream",
     "text": [
      "[2024-01-12 21:46:15,569: INFO: common: Yaml file: config\\config.yaml loaded successfully]\n",
      "[2024-01-12 21:46:15,571: INFO: common: Yaml file: params.yaml loaded successfully]\n",
      "[2024-01-12 21:46:15,572: INFO: common: Created directory at: artifacts]\n",
      "[2024-01-12 21:46:15,572: INFO: common: Created directory at: artifacts/data_ingestion]\n"
     ]
    }
   ],
   "source": [
    "try:\n",
    "    config = ConfigurationManager()\n",
    "    data_ingestion_config = config.get_data_ingestion_config()\n",
    "    data_ingestion = DataIngestion(config=data_ingestion_config)\n",
    "    data_ingestion.download_data()\n",
    "    data_ingestion.extract_zip_file()\n",
    "except:\n",
    "    raise"
   ]
  }
 ],
 "metadata": {
  "kernelspec": {
   "display_name": "venv",
   "language": "python",
   "name": "python3"
  },
  "language_info": {
   "codemirror_mode": {
    "name": "ipython",
    "version": 3
   },
   "file_extension": ".py",
   "mimetype": "text/x-python",
   "name": "python",
   "nbconvert_exporter": "python",
   "pygments_lexer": "ipython3",
   "version": "3.11.5"
  }
 },
 "nbformat": 4,
 "nbformat_minor": 2
}
